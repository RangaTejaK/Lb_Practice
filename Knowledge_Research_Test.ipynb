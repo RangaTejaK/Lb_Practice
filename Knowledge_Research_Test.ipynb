{
 "cells": [
  {
   "cell_type": "markdown",
   "id": "d6f21279",
   "metadata": {},
   "source": [
    "Q1. Write a function to print the fibonaaci series"
   ]
  },
  {
   "cell_type": "code",
   "execution_count": 25,
   "id": "6597da2a",
   "metadata": {},
   "outputs": [
    {
     "name": "stdout",
     "output_type": "stream",
     "text": [
      "0 1 1 2 3 5 8 13 21 "
     ]
    }
   ],
   "source": [
    "def fibanocii(num):\n",
    "    n1, n2 = 0, 1\n",
    "    count = 0\n",
    "    if num <= 0:\n",
    "        print(\"Please enter a positive number\")\n",
    "    elif num == 1:\n",
    "        print(\"Fibonacci sequence upto\",num,\":\")\n",
    "        print(n1,end='')\n",
    "    else:\n",
    "        while count < num:\n",
    "            print(f'{n1} ',end='')\n",
    "            nth = n1 + n2\n",
    "            n1 = n2\n",
    "            n2 = nth\n",
    "            count += 1\n",
    "\n",
    "fibanocii(9)"
   ]
  },
  {
   "cell_type": "markdown",
   "id": "1623bd79",
   "metadata": {},
   "source": [
    "Q2. What are Armstrong numbers? Write a function if a number is Armstrong number of not"
   ]
  },
  {
   "cell_type": "code",
   "execution_count": null,
   "id": "e0c442d6",
   "metadata": {},
   "outputs": [],
   "source": [
    "#Armstrong number : Sum of cubes of individual digits in a number\n",
    "def armstrong(number):\n",
    "    number%10"
   ]
  },
  {
   "cell_type": "markdown",
   "id": "8c84ff4b",
   "metadata": {},
   "source": [
    "Q3. Difference between list and tuple support your answer with coding example"
   ]
  },
  {
   "cell_type": "code",
   "execution_count": null,
   "id": "a99a67a8",
   "metadata": {},
   "outputs": [],
   "source": [
    "list id mutable, tuple is immutable\n",
    "list is represented with [], tuple is ()\n",
    "Indexing, slicing is possible in list but not in tuple\n"
   ]
  },
  {
   "cell_type": "markdown",
   "id": "96e58c4b",
   "metadata": {},
   "source": [
    "Q4. What is python doc String?\n",
    "\n",
    "- Python docstring describes about the details, Purpose and features of a particular function, method or object. The docstrings are written in between ”’triple single quotes”’ or “””triple double quotes””” just below the method or function declaration. All functions will have a docstring to make user understand better about the purpose of the function or method.\n"
   ]
  },
  {
   "cell_type": "markdown",
   "id": "8491a08b",
   "metadata": {},
   "source": [
    "Q1. what is PEP 8?\n",
    "- PEP 8 is a document that provides guidelines and best practices on how to write Python code. PEP stands for Python Enhancement Proposal. A PEP is a document that describes new features proposed for Python and documents aspects of Python, like design and style, for the community"
   ]
  },
  {
   "cell_type": "markdown",
   "id": "f52b0c58",
   "metadata": {},
   "source": [
    "Q2. difference between range and xrange?\n",
    "-    https://www.geeksforgeeks.org/range-vs-xrange-python/"
   ]
  },
  {
   "cell_type": "markdown",
   "id": "acd382ba",
   "metadata": {},
   "source": [
    "Q3. What are global and local varibales support your answer with coding\n",
    "- A global variable is a variable that is accessible globally. \n",
    "- A local variable is one that is only accessible to the current scope, such as temporary variables used in a single function definition."
   ]
  },
  {
   "cell_type": "markdown",
   "id": "1aed13bd",
   "metadata": {},
   "source": [
    "Q4. Difference between python 2 and python 3?\n"
   ]
  },
  {
   "cell_type": "markdown",
   "id": "46e214f2",
   "metadata": {},
   "source": [
    "Q5. What are mirrored palindrome? Write a program to check if a string is mirrored palindrome or not?\n",
    "\n",
    "Mirrored Palindromes and Word Unit Palindromes are two types of Palindromes which are words or phrases that read the same in both directions, e.g. EYE, or RACECAR, or MADAM I'M ADAM.\n",
    "\n",
    "Here are a few good ones:\n",
    "\n",
    "• Do geese see God?\n",
    "\n",
    "• Was it Eliot's toilet I saw?\n",
    "\n",
    "• Murder for a jar of red rum.\n",
    "\n",
    "• Some men interpret nine memos.\n",
    "\n",
    "• Never odd or even.\n",
    "\n",
    "The Palindromes form an integral part of the English Language. Acquaintance with the vocabulary of the English language is a necessity for effective expression either in written or in an oral from.\n",
    "\n",
    "Here are few Mirrored Palindromes.\n",
    "\n",
    "These are palindromes which are graphically reversible. Not all letters in mirrored ones necessarily have symmetry about a vertical axis (A, H, I, M, O, T, U, V, W, X) since some letters are (more or less) mirror images of others (e.g. L and J). Therefore a mirrored one is not necessarily also a traditional palindrome. Punctuation and spaces cannot be ignored when creating this type. When reversed A TOYOTA becomes ATOYOT A which, strictly speaking, is not the same. WOT TOW, although fairly meaningless, is a valid mirrored one. Of course, with this type of palindrome, it is important whether upper or lower case letters are used: bid is a mirrored one, but BID is not."
   ]
  },
  {
   "cell_type": "code",
   "execution_count": 40,
   "id": "8aea8891",
   "metadata": {},
   "outputs": [
    {
     "name": "stdout",
     "output_type": "stream",
     "text": [
      "mirrored palindrome\n"
     ]
    }
   ],
   "source": [
    "a = 'Murder for a jar of red rum'\n",
    "b = \"\".join(a.split())\n",
    "if b.upper() == b[::-1].upper():\n",
    "    print('mirrored palindrome')\n",
    "else: \n",
    "    print('Not mirrored palindrome')"
   ]
  }
 ],
 "metadata": {
  "kernelspec": {
   "display_name": "Python 3 (ipykernel)",
   "language": "python",
   "name": "python3"
  },
  "language_info": {
   "codemirror_mode": {
    "name": "ipython",
    "version": 3
   },
   "file_extension": ".py",
   "mimetype": "text/x-python",
   "name": "python",
   "nbconvert_exporter": "python",
   "pygments_lexer": "ipython3",
   "version": "3.9.7"
  }
 },
 "nbformat": 4,
 "nbformat_minor": 5
}
